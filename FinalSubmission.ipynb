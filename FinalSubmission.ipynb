{
 "metadata": {
  "language_info": {
   "codemirror_mode": {
    "name": "ipython",
    "version": 3
   },
   "file_extension": ".py",
   "mimetype": "text/x-python",
   "name": "python",
   "nbconvert_exporter": "python",
   "pygments_lexer": "ipython3",
   "version": "3.9.2"
  },
  "orig_nbformat": 2,
  "kernelspec": {
   "name": "python392jvsc74a57bd0db1a8c55cd8c57749aba357ad6d7f02ea33a41f5335b95db64c81822b40200a7",
   "display_name": "Python 3.9.2 64-bit"
  }
 },
 "nbformat": 4,
 "nbformat_minor": 2,
 "cells": [
  {
   "cell_type": "code",
   "execution_count": null,
   "metadata": {},
   "outputs": [],
   "source": [
    "#Mendownload dataset \r\n",
    "!wget --no-check-certificate \\\r\n",
    "  https://dicodingacademy.blob.core.windows.net/picodiploma/ml_pemula_academy/rockpaperscissors.zip  \\\r\n",
    "  -O /tmp/rockpaperscissors.zip"
   ]
  },
  {
   "cell_type": "code",
   "execution_count": null,
   "metadata": {},
   "outputs": [],
   "source": [
    "#Mengimport modul yang akan digunakan\n",
    "import tensorflow as tf\n",
    "import os\n",
    "import zipfile\n",
    "import keras.preprocessing\n",
    "from keras.preprocessing import image\n",
    "from keras.preprocessing.image import ImageDataGenerator"
   ]
  },
  {
   "cell_type": "code",
   "execution_count": null,
   "metadata": {},
   "outputs": [],
   "source": [
    "#Mengekstrak dataset\n",
    "local_zip = '/tmp/rockpaperscissors.zip'\n",
    "zip_ref = zipfile.ZipFile(local_zip, 'r')\n",
    "zip_ref.extractall('/tmp')\n",
    "zip_ref.close()"
   ]
  },
  {
   "cell_type": "code",
   "execution_count": null,
   "metadata": {},
   "outputs": [],
   "source": [
    "# Melakukan Augmentasi gambar\n",
    "Base_dir ='/tmp/rockpaperscissors/rps-cv-images'\n",
    "train_datagen = ImageDataGenerator(\n",
    "                    rescale=1./255,\n",
    "                    rotation_range=20,\n",
    "                    horizontal_flip=True,\n",
    "                    shear_range = 0.2,\n",
    "                    validation_split = 0.4,\n",
    "                    fill_mode = 'nearest')"
   ]
  },
  {
   "cell_type": "code",
   "execution_count": null,
   "metadata": {},
   "outputs": [],
   "source": [
    "#Mempersiapkan data latih\n",
    "train_generator = train_datagen.flow_from_directory(\n",
    "        Base_dir,  \n",
    "        target_size=(150, 150), \n",
    "        shuffle= None,\n",
    "        class_mode='categorical',\n",
    "        subset= 'training')\n",
    "\n",
    "validation_generator = train_datagen.flow_from_directory(\n",
    "        Base_dir, \n",
    "        target_size=(150, 150),\n",
    "        shuffle= None, \n",
    "        class_mode='categorical',\n",
    "        subset='validation')"
   ]
  },
  {
   "cell_type": "code",
   "execution_count": null,
   "metadata": {},
   "outputs": [],
   "source": [
    "#Membangun arsitektur model dengan CNN.\n",
    "model = tf.keras.models.Sequential([    \n",
    "    tf.keras.layers.Conv2D(16, (3,3), activation='relu', input_shape=(150, 150, 3)),\n",
    "    tf.keras.layers.MaxPooling2D(2, 2),    \n",
    "    tf.keras.layers.Conv2D(32, (3,3), activation='relu'),\n",
    "    tf.keras.layers.MaxPooling2D(2,2),    \n",
    "    tf.keras.layers.Conv2D(32, (3,3), activation='relu'),\n",
    "    tf.keras.layers.MaxPooling2D(2,2),\n",
    "    tf.keras.layers.Flatten(),\n",
    "    tf.keras.layers.Dropout(0.5),\n",
    "    tf.keras.layers.Dense(128, activation='relu'),\n",
    "    tf.keras.layers.Dense(512, activation='relu'),\n",
    "    tf.keras.layers.Dense(3, activation='softmax')\n",
    "])"
   ]
  },
  {
   "cell_type": "code",
   "execution_count": null,
   "metadata": {},
   "outputs": [],
   "source": [
    "#Melakukan loss function dan Optimizer\n",
    "model.compile(loss='categorical_crossentropy',\n",
    "              optimizer='adam',\n",
    "              metrics=['accuracy'])"
   ]
  },
  {
   "cell_type": "code",
   "execution_count": null,
   "metadata": {},
   "outputs": [],
   "source": [
    "model.fit(train_generator, \n",
    "          steps_per_epoch= 4,\n",
    "          validation_steps=4, \n",
    "          validation_data = validation_generator, \n",
    "          epochs=150,\n",
    "          verbose=2)"
   ]
  },
  {
   "cell_type": "code",
   "execution_count": null,
   "metadata": {},
   "outputs": [],
   "source": [
    "#Menguji model dengan data baru\n",
    "import numpy as np\n",
    "from google.colab import files\n",
    "from keras.preprocessing import image\n",
    "import matplotlib.pyplot as plt\n",
    "import matplotlib.image as mpimg\n",
    "%matplotlib inline\n",
    " \n",
    "uploaded = files.upload()\n",
    " \n",
    "for fn in uploaded.keys():\n",
    "    path = fn\n",
    "    img = image.load_img(path, target_size=(150,150))\n",
    "    imgplot = plt.imshow(img)\n",
    "    x = image.img_to_array(img)\n",
    "    x = np.expand_dims(x, axis=0)\n",
    " \n",
    "    images = np.vstack([x])\n",
    "    classes = model.predict(images, batch_size=10)\n",
    "  \n",
    "    print(fn)\n",
    "    if classes [0][0]== 1:\n",
    "        print('Paper')\n",
    "    elif classes [0][1]==1:\n",
    "        print('Rock')\n",
    "    elif classes [0][2]==1:\n",
    "        print('Scissors')"
   ]
  }
 ]
}